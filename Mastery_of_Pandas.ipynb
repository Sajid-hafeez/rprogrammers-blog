{
  "nbformat": 4,
  "nbformat_minor": 0,
  "metadata": {
    "colab": {
      "provenance": []
    },
    "kernelspec": {
      "name": "python3",
      "display_name": "Python 3"
    },
    "language_info": {
      "name": "python"
    }
  },
  "cells": [
    {
      "cell_type": "markdown",
      "source": [
        "**DataFrame Creation:**\n",
        "\n",
        "1. pd.DataFrame()\n",
        "2. pd.Series()\n",
        "3. pd.read_csv()\n",
        "4. pd.read_excel()\n",
        "5. pd.read_json()\n",
        "6. pd.read_html()\n",
        "7. pd.read_sql()\n",
        "8. pd.read_parquet()\n",
        "9. pd.date_range()\n",
        "10. pd.to_datetime()\n",
        "\n",
        "\n",
        "\n"
      ],
      "metadata": {
        "id": "CriN6UMI_aDR"
      }
    },
    {
      "cell_type": "code",
      "source": [
        "import pandas as pd\n",
        "\n",
        "# DataFrame and Series\n",
        "data = {'ID': [1, 2, 3], 'Marks': [40, 50, 60]}\n",
        "df = pd.DataFrame(data)\n",
        "print(df)\n",
        "\n",
        "s = pd.Series([1, 2, 3])\n",
        "print(s)\n",
        "\n",
        "# Reading files\n",
        "# Replace file paths with your own files\n",
        "#df_csv = pd.read_csv('path/to/your/file.csv')\n",
        "#df_excel = pd.read_excel('path/to/your/file.xlsx')\n",
        "#df_json = pd.read_json('path/to/your/file.json')\n",
        "#df_html = pd.read_html('path/to/your/file.html')[0]  # Assuming the first table is the target\n",
        "# Replace connection_string and query with your own database info\n",
        "# connection_string = 'your_connection_string'\n",
        "# query = 'SELECT * FROM your_table'\n",
        "# df_sql = pd.read_sql(query, connection_string)\n",
        "#df_parquet = pd.read_parquet('path/to/your/file.parquet')\n",
        "\n",
        "# Date handling\n",
        "dates = pd.date_range(start='2021-01-01', end='2021-12-31', freq='D')\n",
        "print(dates)\n",
        "\n",
        "date_string = '2021-01-01'\n",
        "date_object = pd.to_datetime(date_string)\n",
        "print(date_object)\n"
      ],
      "metadata": {
        "colab": {
          "base_uri": "https://localhost:8080/"
        },
        "id": "wC9_9ox7_teS",
        "outputId": "337a3925-592b-4882-c161-52ac9bea54af"
      },
      "execution_count": null,
      "outputs": [
        {
          "output_type": "stream",
          "name": "stdout",
          "text": [
            "   ID  Marks\n",
            "0   1     40\n",
            "1   2     50\n",
            "2   3     60\n",
            "0    1\n",
            "1    2\n",
            "2    3\n",
            "dtype: int64\n",
            "DatetimeIndex(['2021-01-01', '2021-01-02', '2021-01-03', '2021-01-04',\n",
            "               '2021-01-05', '2021-01-06', '2021-01-07', '2021-01-08',\n",
            "               '2021-01-09', '2021-01-10',\n",
            "               ...\n",
            "               '2021-12-22', '2021-12-23', '2021-12-24', '2021-12-25',\n",
            "               '2021-12-26', '2021-12-27', '2021-12-28', '2021-12-29',\n",
            "               '2021-12-30', '2021-12-31'],\n",
            "              dtype='datetime64[ns]', length=365, freq='D')\n",
            "2021-01-01 00:00:00\n"
          ]
        }
      ]
    },
    {
      "cell_type": "markdown",
      "source": [
        "**DataFrame Inspection:**\n",
        "11. df.head()\n",
        "12. df.tail()\n",
        "13. df.sample()\n",
        "14. df.info()\n",
        "15. df.describe()\n",
        "16. df.shape\n",
        "17. df.dtypes\n",
        "18. df.columns\n",
        "19. df.index"
      ],
      "metadata": {
        "id": "-2TWnSfPAA19"
      }
    },
    {
      "cell_type": "code",
      "source": [
        "data = {'ID': [1, 2, 3, 4, 5, 6, 7, 8, 9], 'Marks': [40, 50, 60, 45, 76, 45, 75, 22, 45]}\n",
        "df = pd.DataFrame(data)\n",
        "\n",
        "# 1. df.head(): Returns the first 5 rows of the DataFrame by default, or a specified number of rows.\n",
        "print(df.head())  # You can pass a parameter, like df.head(3), to display the first 3 rows.\n",
        "\n",
        "# 2. df.tail(): Returns the last 5 rows of the DataFrame by default, or a specified number of rows.\n",
        "print(df.tail())  # You can pass a parameter, like df.tail(3), to display the last 3 rows.\n",
        "\n",
        "# 3. df.sample(): Returns a random sample of rows from the DataFrame.\n",
        "print(df.sample(2))  # You can pass a parameter, like df.sample(2), to get 2 random rows.\n",
        "\n",
        "# 4. df.info(): Provides a summary of the DataFrame, including index and columns data types, non-null values, and memory usage.\n",
        "print(df.info())\n",
        "\n",
        "# 5. df.describe(): Generates summary statistics of the DataFrame, including count, mean, standard deviation, min, max, and percentiles.\n",
        "print(df.describe())\n",
        "\n",
        "# 6. df.shape: Returns a tuple representing the dimensionality of the DataFrame (rows, columns).\n",
        "print(df.shape)\n",
        "\n",
        "# 7. df.dtypes: Returns the data types of each column in the DataFrame.\n",
        "print(df.dtypes)\n",
        "\n",
        "# 8. df.columns: Returns the column labels of the DataFrame.\n",
        "print(df.columns)\n",
        "\n",
        "# 9. df.index: Returns the index (row labels) of the DataFrame.\n",
        "print(df.index)\n"
      ],
      "metadata": {
        "colab": {
          "base_uri": "https://localhost:8080/"
        },
        "id": "hQIGhaRIABis",
        "outputId": "42e60cf8-61ab-4906-e142-6d3b6d061ac9"
      },
      "execution_count": null,
      "outputs": [
        {
          "output_type": "stream",
          "name": "stdout",
          "text": [
            "   ID  Marks\n",
            "0   1     40\n",
            "1   2     50\n",
            "2   3     60\n",
            "3   4     45\n",
            "4   5     76\n",
            "   ID  Marks\n",
            "4   5     76\n",
            "5   6     45\n",
            "6   7     75\n",
            "7   8     22\n",
            "8   9     45\n",
            "   ID  Marks\n",
            "8   9     45\n",
            "7   8     22\n",
            "<class 'pandas.core.frame.DataFrame'>\n",
            "RangeIndex: 9 entries, 0 to 8\n",
            "Data columns (total 2 columns):\n",
            " #   Column  Non-Null Count  Dtype\n",
            "---  ------  --------------  -----\n",
            " 0   ID      9 non-null      int64\n",
            " 1   Marks   9 non-null      int64\n",
            "dtypes: int64(2)\n",
            "memory usage: 272.0 bytes\n",
            "None\n",
            "             ID      Marks\n",
            "count  9.000000   9.000000\n",
            "mean   5.000000  50.888889\n",
            "std    2.738613  17.149668\n",
            "min    1.000000  22.000000\n",
            "25%    3.000000  45.000000\n",
            "50%    5.000000  45.000000\n",
            "75%    7.000000  60.000000\n",
            "max    9.000000  76.000000\n",
            "(9, 2)\n",
            "ID       int64\n",
            "Marks    int64\n",
            "dtype: object\n",
            "Index(['ID', 'Marks'], dtype='object')\n",
            "RangeIndex(start=0, stop=9, step=1)\n"
          ]
        }
      ]
    },
    {
      "cell_type": "markdown",
      "source": [
        "**DataFrame Selection:**\n",
        "20. df.loc[]\n",
        "\n",
        "21. df.iloc[]\n",
        "22. df.at[]\n",
        "23. df.iat[]\n",
        "24. df.query()\n",
        "25. df.xs()"
      ],
      "metadata": {
        "id": "CeFJmVSvAZEU"
      }
    },
    {
      "cell_type": "code",
      "source": [
        "data = {'A': [1, 2, 3], 'B': [4, 5, 6]}\n",
        "df = pd.DataFrame(data, index=['row1', 'row2', 'row3'])\n",
        "print(df)\n",
        "# df.loc[]: Selects data by label(s) from the DataFrame.\n",
        "print(df.loc['row1'])  # Selects the row with index 'row1'\n",
        "print(df.loc[['row1', 'row3'], 'A'])  # Selects multiple rows by index labels\n",
        "print(df.loc['row1', 'A'])  # Selects a specific element using row and column labels\n",
        "print(\"-------------------\")\n",
        "\n",
        "#  df.at[]: Accesses a single value for a row/column label pair.\n",
        "print(df.at['row1', 'A'])  # Selects the value at the intersection of row 'row1' and column 'A'\n",
        "print(\"-------------------\")\n",
        "\n",
        "#  df.xs(): Selects data from the DataFrame based on a specific key, axis, or level.\n",
        "print(df.xs('row1'))  # Selects the row with index 'row1'\n",
        "print(\"-------------------\")\n",
        "# reset the index\n",
        "df = df.reset_index(drop = True)\n",
        "\n",
        "# print the DataFrame\n",
        "print(df)\n",
        "print(\"-------------------\")\n",
        "# df.iloc[]: Selects data by integer location(s) from the DataFrame.\n",
        "print(df.iloc[0])  # Selects the first row\n",
        "print(df.iloc[[0, 2]])  # Selects multiple rows by integer locations\n",
        "print(df.iloc[0, 0])  # Selects a specific element using row and column integer locations\n",
        "print(\"-------------------\")\n",
        "\n",
        "# df.iat[]: Accesses a single value for a row/column pair by integer position.\n",
        "print(df.iat[0, 0])  # Selects the value at the intersection of the first row and first column\n",
        "print(\"-------------------\")\n",
        "# df.query(): Queries the DataFrame using a boolean expression.\n",
        "print(df.query(\"A > 1\"))  # Selects rows where column 'A' has a value greater than 1\n",
        "print(\"-------------------\")\n"
      ],
      "metadata": {
        "colab": {
          "base_uri": "https://localhost:8080/"
        },
        "id": "JDcBOW_nAk3_",
        "outputId": "936fa136-5f72-411c-a581-368dced61c44"
      },
      "execution_count": null,
      "outputs": [
        {
          "output_type": "stream",
          "name": "stdout",
          "text": [
            "      A  B\n",
            "row1  1  4\n",
            "row2  2  5\n",
            "row3  3  6\n",
            "A    1\n",
            "B    4\n",
            "Name: row1, dtype: int64\n",
            "row1    1\n",
            "row3    3\n",
            "Name: A, dtype: int64\n",
            "1\n",
            "-------------------\n",
            "1\n",
            "-------------------\n",
            "A    1\n",
            "B    4\n",
            "Name: row1, dtype: int64\n",
            "-------------------\n",
            "   A  B\n",
            "0  1  4\n",
            "1  2  5\n",
            "2  3  6\n",
            "-------------------\n",
            "A    1\n",
            "B    4\n",
            "Name: 0, dtype: int64\n",
            "   A  B\n",
            "0  1  4\n",
            "2  3  6\n",
            "1\n",
            "-------------------\n",
            "1\n",
            "-------------------\n",
            "   A  B\n",
            "1  2  5\n",
            "2  3  6\n",
            "-------------------\n"
          ]
        }
      ]
    },
    {
      "cell_type": "markdown",
      "source": [
        "**DataFrame Filtering:**\n",
        "26. df[df['column'] > value]\n",
        "\n",
        "27. df[df['column'].isin([value1, value2])]\n",
        "28. df[df['column'].notnull()]\n",
        "\n",
        "**DataFrame Sorting:**\n",
        "\n",
        "29. df.sort_values()\n",
        "30. df.sort_index()\n",
        "\n",
        "**DataFrame Modification:**\n",
        "\n",
        "31. df.rename()\n",
        "\n",
        "32. df.replace()\n",
        "33. df.set_index()\n",
        "34. df.reset_index()\n",
        "35. df.astype()\n",
        "36. df['new_column'] = value\n",
        "37. df.drop()\n",
        "38. df.drop_duplicates()\n",
        "\n",
        "**DataFrame Aggregation and Grouping:**\n",
        "\n",
        "39. df.count()\n",
        "40. df.sum()\n",
        "41. df.min()\n",
        "42. df.max()\n",
        "43. df.mean()\n",
        "44. df.median()\n",
        "45. df.mode()\n",
        "46. df.std()\n",
        "47. df.var()\n",
        "48. df.quantile()\n",
        "49. df.cumsum()\n",
        "50. df.cumprod()\n",
        "51. df.cummin()\n",
        "52. df.cummax()\n",
        "53. df.nunique()\n",
        "54. df.groupby()\n",
        "55. df.pivot_table()\n",
        "56. df.rolling()\n",
        "57. df.expanding()"
      ],
      "metadata": {
        "id": "fl-agr3CBAfe"
      }
    },
    {
      "cell_type": "code",
      "source": [
        "import pandas as pd\n",
        "import numpy as np\n",
        "\n",
        "# Generate random data for two variables\n",
        "np.random.seed(42)\n",
        "hours_of_study = np.random.uniform(0, 20, 100)  # 100 random numbers from a uniform distribution (range 0-20)\n",
        "test_scores = 4 * hours_of_study + np.random.normal(0, 2, 100)  # 100 random numbers based on hours_of_study with added noise (mean=0, std_dev=5)\n",
        "id= np.arange(100)\n",
        "# Create a pandas DataFrame\n",
        "df = pd.DataFrame({'ID': id, 'Hours_of_Study': hours_of_study, 'Test_Scores': test_scores})\n",
        "\n",
        "print(df.head())\n",
        "\n",
        "# DataFrame Filtering\n",
        "# 1. Select rows based on a condition for a specific column\n",
        "print(df[df['Test_Scores'] > 70])  # df['Test_Scores']>70\n",
        "newdata = df[df['Test_Scores'] > 70]"
      ],
      "metadata": {
        "id": "Ev0jI_-XBhby",
        "colab": {
          "base_uri": "https://localhost:8080/"
        },
        "outputId": "39073faa-a056-469f-c836-aed78b854f8f"
      },
      "execution_count": null,
      "outputs": [
        {
          "output_type": "stream",
          "name": "stdout",
          "text": [
            "   ID  Hours_of_Study  Test_Scores\n",
            "0   0        7.490802    30.137304\n",
            "1   1       19.014286    75.459130\n",
            "2   2       14.639879    58.743037\n",
            "3   3       11.973170    43.917541\n",
            "4   4        3.120373    12.042147\n",
            "    ID  Hours_of_Study  Test_Scores\n",
            "1    1       19.014286    75.459130\n",
            "11  11       19.398197    78.250290\n",
            "33  33       18.977711    75.761951\n",
            "34  34       19.312641    73.413020\n",
            "43  43       18.186408    74.249498\n",
            "50  50       19.391693    75.585698\n",
            "52  52       18.789979    75.359218\n",
            "53  53       17.896547    70.579237\n",
            "55  55       18.437485    73.887065\n",
            "69  69       19.737739    80.514601\n",
            "80  80       17.262069    72.779823\n",
            "88  88       17.744255    72.903772\n"
          ]
        }
      ]
    },
    {
      "cell_type": "code",
      "source": [
        "\n",
        "# 2. Select rows where a column has a value in a list\n",
        "print(df[df['ID'].isin([5, 14])])\n",
        "print(df[df['ID'] == 5])"
      ],
      "metadata": {
        "colab": {
          "base_uri": "https://localhost:8080/"
        },
        "id": "TxHMV3czb8wU",
        "outputId": "b128ef86-dd41-4a4e-d3ca-3d56e0fbd50f"
      },
      "execution_count": null,
      "outputs": [
        {
          "output_type": "stream",
          "name": "stdout",
          "text": [
            "    ID  Hours_of_Study  Test_Scores\n",
            "5    5        3.119890    13.193787\n",
            "14  14        3.636499    14.740152\n",
            "   ID  Hours_of_Study  Test_Scores\n",
            "5   5         3.11989    13.193787\n"
          ]
        }
      ]
    },
    {
      "cell_type": "code",
      "source": [
        "\n",
        "# 3. Select rows where a column has a non-null value\n",
        "print(df[df['ID'].notnull()])\n"
      ],
      "metadata": {
        "colab": {
          "base_uri": "https://localhost:8080/"
        },
        "id": "YD3RUQmMb_Hi",
        "outputId": "9c7e7702-964e-49d5-edcb-a579f5907178"
      },
      "execution_count": null,
      "outputs": [
        {
          "output_type": "stream",
          "name": "stdout",
          "text": [
            "    ID  Hours_of_Study  Test_Scores\n",
            "0    0        7.490802    37.889247\n",
            "1    1       19.014286    93.576394\n",
            "2    2       14.639879    73.658198\n",
            "3    3       11.973170    49.928004\n",
            "4    4        3.120373    14.503505\n",
            "..  ..             ...          ...\n",
            "95  95        9.875912    45.300508\n",
            "96  96       10.454657    51.887774\n",
            "97  97        8.550820    44.459862\n",
            "98  98        0.508383     3.925367\n",
            "99  99        2.157829    14.925059\n",
            "\n",
            "[100 rows x 3 columns]\n"
          ]
        }
      ]
    },
    {
      "cell_type": "code",
      "source": [
        "\n",
        "# DataFrame Sorting\n",
        "# 4. Sort DataFrame by values in a specific column\n",
        "print(df.sort_values(by='Test_Scores'))\n",
        "x=df.sort_values(by='Test_Scores')"
      ],
      "metadata": {
        "colab": {
          "base_uri": "https://localhost:8080/"
        },
        "id": "q46YveuncBCf",
        "outputId": "3341319d-3482-4886-b58f-c7b011250ef7"
      },
      "execution_count": null,
      "outputs": [
        {
          "output_type": "stream",
          "name": "stdout",
          "text": [
            "    ID  Hours_of_Study  Test_Scores\n",
            "72  72        0.110442     1.485653\n",
            "58  58        0.904546     1.779335\n",
            "98  98        0.508383     2.586912\n",
            "10  10        0.411690     3.477564\n",
            "29  29        0.929008     4.524135\n",
            "..  ..             ...          ...\n",
            "1    1       19.014286    75.459130\n",
            "50  50       19.391693    75.585698\n",
            "33  33       18.977711    75.761951\n",
            "11  11       19.398197    78.250290\n",
            "69  69       19.737739    80.514601\n",
            "\n",
            "[100 rows x 3 columns]\n"
          ]
        }
      ]
    },
    {
      "cell_type": "code",
      "source": [
        "\n",
        "# 5. Sort DataFrame by index\n",
        "print(x.sort_index())"
      ],
      "metadata": {
        "colab": {
          "base_uri": "https://localhost:8080/"
        },
        "id": "QcQvTh6QcCnt",
        "outputId": "9e4fc0db-d43e-441b-ef41-174ea86105b7"
      },
      "execution_count": null,
      "outputs": [
        {
          "output_type": "stream",
          "name": "stdout",
          "text": [
            "    ID  Hours_of_Study  Test_Scores\n",
            "0    0        7.490802    37.889247\n",
            "1    1       19.014286    93.576394\n",
            "2    2       14.639879    73.658198\n",
            "3    3       11.973170    49.928004\n",
            "4    4        3.120373    14.503505\n",
            "..  ..             ...          ...\n",
            "95  95        9.875912    45.300508\n",
            "96  96       10.454657    51.887774\n",
            "97  97        8.550820    44.459862\n",
            "98  98        0.508383     3.925367\n",
            "99  99        2.157829    14.925059\n",
            "\n",
            "[100 rows x 3 columns]\n"
          ]
        }
      ]
    },
    {
      "cell_type": "code",
      "source": [
        "\n",
        "# DataFrame Modification\n",
        "# 6. Rename columns in a DataFrame\n",
        "df = df.rename(columns={'Hours_of_Study': 'HS', 'Test_Scores': 'TS'})\n",
        "print(df)\n",
        "\n",
        "# 7. Replace values in a DataFrame\n",
        "print(df['ID'].replace(1, 100))\n",
        "df['ID'] = df['ID'].replace(1, 100)\n",
        "# 8. Set a column as the index of a DataFrame\n",
        "\n",
        "print(df.set_index('ID'))\n",
        "\n",
        "# 9. Reset index of a DataFrame\n",
        "print(df.reset_index())\n",
        "\n",
        "# 10. Change the data type of a column in a DataFrame\n",
        "print(df['HS'].astype(float))\n",
        "\n",
        "# 11. Add a new column to a DataFrame\n",
        "df['new_column'] = 'some_value'\n",
        "print(df)\n",
        "\n",
        "# 12. Drop a column or row from a DataFrame\n",
        "print(df.drop('new_column', axis=1))\n",
        "\n",
        "print(df.drop(0, axis=0))\n",
        "df = df.drop('new_column', axis=1)\n",
        "# 13. Remove duplicate rows from a DataFrame\n",
        "print(df.drop_duplicates())\n",
        "\n"
      ],
      "metadata": {
        "colab": {
          "base_uri": "https://localhost:8080/"
        },
        "id": "NZ_UusMXbiSQ",
        "outputId": "25b9f832-2d7a-4063-dc9f-60496e6addb2"
      },
      "execution_count": null,
      "outputs": [
        {
          "output_type": "stream",
          "name": "stdout",
          "text": [
            "    ID         HS         TS  new_column\n",
            "0    0   7.490802  30.137304  some_value\n",
            "1    1  19.014286  75.459130  some_value\n",
            "2    2  14.639879  58.743037  some_value\n",
            "3    3  11.973170  43.917541  some_value\n",
            "4    4   3.120373  12.042147  some_value\n",
            "..  ..        ...        ...         ...\n",
            "95  95   9.875912  37.872027  some_value\n",
            "96  96  10.454657  41.664423  some_value\n",
            "97  97   8.550820  34.885585  some_value\n",
            "98  98   0.508383   2.586912  some_value\n",
            "99  99   2.157829  10.285681  some_value\n",
            "\n",
            "[100 rows x 4 columns]\n",
            "0       0\n",
            "1     100\n",
            "2       2\n",
            "3       3\n",
            "4       4\n",
            "     ... \n",
            "95     95\n",
            "96     96\n",
            "97     97\n",
            "98     98\n",
            "99     99\n",
            "Name: ID, Length: 100, dtype: int64\n",
            "            HS         TS  new_column\n",
            "ID                                   \n",
            "0     7.490802  30.137304  some_value\n",
            "100  19.014286  75.459130  some_value\n",
            "2    14.639879  58.743037  some_value\n",
            "3    11.973170  43.917541  some_value\n",
            "4     3.120373  12.042147  some_value\n",
            "..         ...        ...         ...\n",
            "95    9.875912  37.872027  some_value\n",
            "96   10.454657  41.664423  some_value\n",
            "97    8.550820  34.885585  some_value\n",
            "98    0.508383   2.586912  some_value\n",
            "99    2.157829  10.285681  some_value\n",
            "\n",
            "[100 rows x 3 columns]\n",
            "    index   ID         HS         TS  new_column\n",
            "0       0    0   7.490802  30.137304  some_value\n",
            "1       1  100  19.014286  75.459130  some_value\n",
            "2       2    2  14.639879  58.743037  some_value\n",
            "3       3    3  11.973170  43.917541  some_value\n",
            "4       4    4   3.120373  12.042147  some_value\n",
            "..    ...  ...        ...        ...         ...\n",
            "95     95   95   9.875912  37.872027  some_value\n",
            "96     96   96  10.454657  41.664423  some_value\n",
            "97     97   97   8.550820  34.885585  some_value\n",
            "98     98   98   0.508383   2.586912  some_value\n",
            "99     99   99   2.157829  10.285681  some_value\n",
            "\n",
            "[100 rows x 5 columns]\n",
            "0      7.490802\n",
            "1     19.014286\n",
            "2     14.639879\n",
            "3     11.973170\n",
            "4      3.120373\n",
            "        ...    \n",
            "95     9.875912\n",
            "96    10.454657\n",
            "97     8.550820\n",
            "98     0.508383\n",
            "99     2.157829\n",
            "Name: HS, Length: 100, dtype: float64\n",
            "     ID         HS         TS  new_column\n",
            "0     0   7.490802  30.137304  some_value\n",
            "1   100  19.014286  75.459130  some_value\n",
            "2     2  14.639879  58.743037  some_value\n",
            "3     3  11.973170  43.917541  some_value\n",
            "4     4   3.120373  12.042147  some_value\n",
            "..  ...        ...        ...         ...\n",
            "95   95   9.875912  37.872027  some_value\n",
            "96   96  10.454657  41.664423  some_value\n",
            "97   97   8.550820  34.885585  some_value\n",
            "98   98   0.508383   2.586912  some_value\n",
            "99   99   2.157829  10.285681  some_value\n",
            "\n",
            "[100 rows x 4 columns]\n",
            "     ID         HS         TS\n",
            "0     0   7.490802  30.137304\n",
            "1   100  19.014286  75.459130\n",
            "2     2  14.639879  58.743037\n",
            "3     3  11.973170  43.917541\n",
            "4     4   3.120373  12.042147\n",
            "..  ...        ...        ...\n",
            "95   95   9.875912  37.872027\n",
            "96   96  10.454657  41.664423\n",
            "97   97   8.550820  34.885585\n",
            "98   98   0.508383   2.586912\n",
            "99   99   2.157829  10.285681\n",
            "\n",
            "[100 rows x 3 columns]\n",
            "     ID         HS         TS  new_column\n",
            "1   100  19.014286  75.459130  some_value\n",
            "2     2  14.639879  58.743037  some_value\n",
            "3     3  11.973170  43.917541  some_value\n",
            "4     4   3.120373  12.042147  some_value\n",
            "5     5   3.119890  13.193787  some_value\n",
            "..  ...        ...        ...         ...\n",
            "95   95   9.875912  37.872027  some_value\n",
            "96   96  10.454657  41.664423  some_value\n",
            "97   97   8.550820  34.885585  some_value\n",
            "98   98   0.508383   2.586912  some_value\n",
            "99   99   2.157829  10.285681  some_value\n",
            "\n",
            "[99 rows x 4 columns]\n",
            "     ID         HS         TS\n",
            "0     0   7.490802  30.137304\n",
            "1   100  19.014286  75.459130\n",
            "2     2  14.639879  58.743037\n",
            "3     3  11.973170  43.917541\n",
            "4     4   3.120373  12.042147\n",
            "..  ...        ...        ...\n",
            "95   95   9.875912  37.872027\n",
            "96   96  10.454657  41.664423\n",
            "97   97   8.550820  34.885585\n",
            "98   98   0.508383   2.586912\n",
            "99   99   2.157829  10.285681\n",
            "\n",
            "[100 rows x 3 columns]\n"
          ]
        }
      ]
    },
    {
      "cell_type": "code",
      "source": [
        "# DataFrame Aggregation and Grouping\n",
        "# 14. Count non-null values in each column\n",
        "print(df.count())\n"
      ],
      "metadata": {
        "colab": {
          "base_uri": "https://localhost:8080/"
        },
        "id": "ZQ_OO7fJbmDW",
        "outputId": "af17620c-dafb-4af0-989a-5610a4691288"
      },
      "execution_count": null,
      "outputs": [
        {
          "output_type": "stream",
          "name": "stdout",
          "text": [
            "ID            100\n",
            "HS            100\n",
            "TS            100\n",
            "new_column    100\n",
            "grades        100\n",
            "dtype: int64\n"
          ]
        }
      ]
    },
    {
      "cell_type": "code",
      "source": [
        "\n",
        "# 15. Sum values in each column\n",
        "print(df[['TS','HS']].sum())\n"
      ],
      "metadata": {
        "colab": {
          "base_uri": "https://localhost:8080/"
        },
        "id": "i7Kww0J0j1OV",
        "outputId": "02e2635b-9e49-416b-8e7f-4dd71df1f361"
      },
      "execution_count": null,
      "outputs": [
        {
          "output_type": "stream",
          "name": "stdout",
          "text": [
            "TS    4701.267254\n",
            "HS     940.361487\n",
            "dtype: float64\n"
          ]
        }
      ]
    },
    {
      "cell_type": "code",
      "source": [
        "\n",
        "# 16. Find the minimum value in each column\n",
        "print(df[['TS','HS']].min())\n"
      ],
      "metadata": {
        "colab": {
          "base_uri": "https://localhost:8080/"
        },
        "id": "CU1A60YEj3zJ",
        "outputId": "92287467-70f7-48ad-9b29-5bf2e5de527f"
      },
      "execution_count": null,
      "outputs": [
        {
          "output_type": "stream",
          "name": "stdout",
          "text": [
            "TS   -0.074392\n",
            "HS    0.110442\n",
            "dtype: float64\n"
          ]
        }
      ]
    },
    {
      "cell_type": "code",
      "source": [
        "\n",
        "# 17. Find the maximum value in each column\n",
        "print(df[['TS','HS']].max())\n"
      ],
      "metadata": {
        "colab": {
          "base_uri": "https://localhost:8080/"
        },
        "id": "N_7pFb3Uj6IT",
        "outputId": "3364b8f0-4d4b-4a89-95e7-df382ea2346f"
      },
      "execution_count": null,
      "outputs": [
        {
          "output_type": "stream",
          "name": "stdout",
          "text": [
            "TS    102.597808\n",
            "HS     19.737739\n",
            "dtype: float64\n"
          ]
        }
      ]
    },
    {
      "cell_type": "code",
      "source": [
        "\n",
        "# 18. Calculate the mean value for each column\n",
        "print(df[['TS','HS']].mean())\n",
        "\n",
        "# 19. Calculate the median value for each column\n",
        "print(df[['TS','HS']].median())\n"
      ],
      "metadata": {
        "colab": {
          "base_uri": "https://localhost:8080/"
        },
        "id": "N1GcAW2sj8Gb",
        "outputId": "e7167161-961b-4d59-a8b1-a457b902fd06"
      },
      "execution_count": null,
      "outputs": [
        {
          "output_type": "stream",
          "name": "stdout",
          "text": [
            "TS    47.012673\n",
            "HS     9.403615\n",
            "dtype: float64\n",
            "TS    44.728704\n",
            "HS     9.282849\n",
            "dtype: float64\n"
          ]
        }
      ]
    },
    {
      "cell_type": "code",
      "source": [
        "# 21. Calculate the standard deviation for each column\n",
        "print(df[['TS','HS']].std())\n",
        "\n",
        "# 22. Calculate the variance for each column\n",
        "print(df[['TS','HS']].var())\n",
        "\n",
        "# 23. Calculate the specified quantile for each column\n",
        "print(df[['TS','HS']].quantile(0.75))\n"
      ],
      "metadata": {
        "colab": {
          "base_uri": "https://localhost:8080/"
        },
        "id": "lNV2R4i2j_57",
        "outputId": "ced2cd2a-cb0e-4688-ff6f-5b49ea0fe141"
      },
      "execution_count": null,
      "outputs": [
        {
          "output_type": "stream",
          "name": "stdout",
          "text": [
            "TS    29.413357\n",
            "HS     5.949788\n",
            "dtype: float64\n",
            "TS    865.14559\n",
            "HS     35.39998\n",
            "dtype: float64\n",
            "TS    21.926021\n",
            "HS     3.864015\n",
            "Name: 0.25, dtype: float64\n"
          ]
        }
      ]
    },
    {
      "cell_type": "code",
      "source": [
        "print(df.head())\n",
        "# 24. Compute the cumulative sum for each column\n",
        "print(df[['HS','TS']].cumsum())\n",
        "\n",
        "# 25. Compute the cumulative product for each column\n",
        "print(df[['HS','TS']].cumprod())\n",
        "\n",
        "# 26. Compute the cumulative minimum for each column\n",
        "print(df[['TS','HS']].cummin())\n",
        "\n",
        "# 27. Compute the cumulative maximum for each column\n",
        "print(df[['TS','HS']].cummax())"
      ],
      "metadata": {
        "colab": {
          "base_uri": "https://localhost:8080/"
        },
        "id": "12odBtBEkC8Y",
        "outputId": "e7578594-b809-4651-a414-3acda7070ab3"
      },
      "execution_count": null,
      "outputs": [
        {
          "output_type": "stream",
          "name": "stdout",
          "text": [
            "    ID         HS         TS\n",
            "0    0   7.490802  30.137304\n",
            "1  100  19.014286  75.459130\n",
            "2    2  14.639879  58.743037\n",
            "3    3  11.973170  43.917541\n",
            "4    4   3.120373  12.042147\n",
            "            HS           TS\n",
            "0     7.490802    30.137304\n",
            "1    26.505089   105.596433\n",
            "2    41.144967   164.339470\n",
            "3    53.118137   208.257011\n",
            "4    56.238510   220.299159\n",
            "..         ...          ...\n",
            "95  918.689799  3671.807274\n",
            "96  929.144455  3713.471697\n",
            "97  937.695276  3748.357283\n",
            "98  938.203658  3750.944194\n",
            "99  940.361487  3761.229875\n",
            "\n",
            "[100 rows x 2 columns]\n",
            "              HS             TS\n",
            "0   7.490802e+00   3.013730e+01\n",
            "1   1.424323e+02   2.274135e+03\n",
            "2   2.085191e+03   1.335896e+05\n",
            "3   2.496635e+04   5.866926e+06\n",
            "4   7.790431e+04   7.065039e+07\n",
            "..           ...            ...\n",
            "95  3.066814e+80  2.702156e+139\n",
            "96  3.206249e+81  1.125838e+141\n",
            "97  2.741606e+82  3.927551e+142\n",
            "98  1.393784e+82  1.016023e+143\n",
            "99  3.007548e+82  1.045049e+144\n",
            "\n",
            "[100 rows x 2 columns]\n",
            "           TS        HS\n",
            "0   30.137304  7.490802\n",
            "1   30.137304  7.490802\n",
            "2   30.137304  7.490802\n",
            "3   30.137304  7.490802\n",
            "4   12.042147  3.120373\n",
            "..        ...       ...\n",
            "95   1.485653  0.110442\n",
            "96   1.485653  0.110442\n",
            "97   1.485653  0.110442\n",
            "98   1.485653  0.110442\n",
            "99   1.485653  0.110442\n",
            "\n",
            "[100 rows x 2 columns]\n",
            "           TS         HS\n",
            "0   30.137304   7.490802\n",
            "1   75.459130  19.014286\n",
            "2   75.459130  19.014286\n",
            "3   75.459130  19.014286\n",
            "4   75.459130  19.014286\n",
            "..        ...        ...\n",
            "95  80.514601  19.737739\n",
            "96  80.514601  19.737739\n",
            "97  80.514601  19.737739\n",
            "98  80.514601  19.737739\n",
            "99  80.514601  19.737739\n",
            "\n",
            "[100 rows x 2 columns]\n"
          ]
        }
      ]
    },
    {
      "cell_type": "code",
      "source": [
        "df['grades'] = df['TS'].apply(lambda x: 'good' if x > 70 else 'bad')\n",
        "\n",
        "# 28. Count the number of unique values in each column\n",
        "print(df['grades'].nunique())\n",
        "\n",
        "# 29. Group DataFrame by a column and perform aggregation functions\n",
        "\n",
        "print(df.groupby('grades').sum())\n",
        "\n",
        "# 30. Create a pivot table from the DataFrame\n",
        "print(df.pivot_table(values='TS', index='grades', aggfunc='mean'))\n",
        "\n",
        "# 31. Apply a rolling window function to the DataFrame\n",
        "print(df.rolling(window=2).sum())"
      ],
      "metadata": {
        "colab": {
          "base_uri": "https://localhost:8080/"
        },
        "id": "FcmMoJvTyoEB",
        "outputId": "579f34d2-080a-4474-e3c6-9ee80d9a728f"
      },
      "execution_count": null,
      "outputs": [
        {
          "output_type": "stream",
          "name": "stdout",
          "text": [
            "2\n",
            "          ID          HS           TS\n",
            "grades                               \n",
            "bad     4381  716.212479  2862.486573\n",
            "good     668  224.149008   898.743302\n",
            "               TS\n",
            "grades           \n",
            "bad     32.528257\n",
            "good    74.895275\n",
            "       ID         HS          TS\n",
            "0     NaN        NaN         NaN\n",
            "1   100.0  26.505089  105.596433\n",
            "2   102.0  33.654165  134.202167\n",
            "3     5.0  26.613049  102.660578\n",
            "4     7.0  15.093542   55.959688\n",
            "..    ...        ...         ...\n",
            "95  189.0  25.295256   97.770373\n",
            "96  191.0  20.330569   79.536450\n",
            "97  193.0  19.005477   76.550008\n",
            "98  195.0   9.059203   37.472497\n",
            "99  197.0   2.666211   12.872592\n",
            "\n",
            "[100 rows x 3 columns]\n"
          ]
        },
        {
          "output_type": "stream",
          "name": "stderr",
          "text": [
            "<ipython-input-83-54ff034f0f3e>:14: FutureWarning: Dropping of nuisance columns in rolling operations is deprecated; in a future version this will raise TypeError. Select only valid columns before calling the operation. Dropped columns were Index(['grades'], dtype='object')\n",
            "  print(df.rolling(window=2).sum())\n"
          ]
        }
      ]
    },
    {
      "cell_type": "markdown",
      "source": [
        "**DataFrame Reshaping:**\n",
        "63. df.melt()\n",
        "\n",
        "64. df.pivot()\n",
        "65. df.stack()\n",
        "66. df.unstack()\n",
        "67. df.transpose()\n",
        "**DateTime Manipulation:**\n",
        "68. df['column'].dt.year\n",
        "69. df['column'].dt.month\n",
        "70. df['column'].dt.day\n",
        "71. df['column'].dt.hour\n",
        "72. df['column'].dt.minute\n",
        "73. df['column'].dt.second\n",
        "74. df['column'].dt.weekday\n",
        "75. df['column'].dt.dayofyear\n",
        "76. df['column'].dt.quarter\n",
        "77. df['column'].dt.is_month_start\n",
        "78. df['column'].dt.is_month_end"
      ],
      "metadata": {
        "id": "eTIzMBF8CGUc"
      }
    },
    {
      "cell_type": "code",
      "source": [
        "import pandas as pd\n",
        "\n",
        "data = {'A': [1, 2, 3], 'B': [4, 5, 6]}\n",
        "df = pd.DataFrame(data)\n",
        "print(df)\n",
        "# DataFrame Reshaping\n",
        "# 1. Melt the DataFrame into a long format\n",
        "melted = df.melt(var_name='column', value_name='value')\n",
        "print(melted)\n",
        "\n",
        "# 2. Pivot the DataFrame to a wide format\n",
        "pivoted = melted.pivot(index='column', columns='value')\n",
        "print(pivoted)\n",
        "\n",
        "# 3. Stack the DataFrame\n",
        "stacked = df.stack()\n",
        "print(stacked)\n",
        "\n",
        "# 4. Unstack the DataFrame\n",
        "unstacked = stacked.unstack()\n",
        "print(unstacked)\n",
        "\n",
        "# 5. Transpose the DataFrame (swap rows and columns)\n",
        "transposed = df.transpose()\n",
        "print(transposed)\n",
        "\n",
        "# DateTime Manipulation\n",
        "# Create a DataFrame with a datetime column\n",
        "date_data = {'date': pd.date_range(start='2021-01-01', periods=3, freq='D')}\n",
        "date_df = pd.DataFrame(date_data)\n",
        "\n",
        "# 6-16. Access datetime properties\n",
        "print(date_df['date'].dt.year)\n",
        "print(date_df['date'].dt.month)\n",
        "print(date_df['date'].dt.day)\n",
        "print(date_df['date'].dt.hour)\n",
        "print(date_df['date'].dt.minute)\n",
        "print(date_df['date'].dt.second)\n",
        "print(date_df['date'].dt.weekday)\n",
        "print(date_df['date'].dt.dayofyear)\n",
        "print(date_df['date'].dt.quarter)\n",
        "print(date_df['date'].dt.is_month_start)\n",
        "print(date_df['date'].dt.is_month_end)\n"
      ],
      "metadata": {
        "colab": {
          "base_uri": "https://localhost:8080/"
        },
        "id": "DY5XuF17CfUQ",
        "outputId": "c32b4e7f-018d-4bc2-8d65-2bd1f5db881c"
      },
      "execution_count": null,
      "outputs": [
        {
          "output_type": "stream",
          "name": "stdout",
          "text": [
            "   A  B\n",
            "0  1  4\n",
            "1  2  5\n",
            "2  3  6\n",
            "  column  value\n",
            "0      A      1\n",
            "1      A      2\n",
            "2      A      3\n",
            "3      B      4\n",
            "4      B      5\n",
            "5      B      6\n",
            "Empty DataFrame\n",
            "Columns: []\n",
            "Index: [A, B]\n",
            "0  A    1\n",
            "   B    4\n",
            "1  A    2\n",
            "   B    5\n",
            "2  A    3\n",
            "   B    6\n",
            "dtype: int64\n",
            "   A  B\n",
            "0  1  4\n",
            "1  2  5\n",
            "2  3  6\n",
            "   0  1  2\n",
            "A  1  2  3\n",
            "B  4  5  6\n",
            "0    2021\n",
            "1    2021\n",
            "2    2021\n",
            "Name: date, dtype: int64\n",
            "0    1\n",
            "1    1\n",
            "2    1\n",
            "Name: date, dtype: int64\n",
            "0    1\n",
            "1    2\n",
            "2    3\n",
            "Name: date, dtype: int64\n",
            "0    0\n",
            "1    0\n",
            "2    0\n",
            "Name: date, dtype: int64\n",
            "0    0\n",
            "1    0\n",
            "2    0\n",
            "Name: date, dtype: int64\n",
            "0    0\n",
            "1    0\n",
            "2    0\n",
            "Name: date, dtype: int64\n",
            "0    4\n",
            "1    5\n",
            "2    6\n",
            "Name: date, dtype: int64\n",
            "0    1\n",
            "1    2\n",
            "2    3\n",
            "Name: date, dtype: int64\n",
            "0    1\n",
            "1    1\n",
            "2    1\n",
            "Name: date, dtype: int64\n",
            "0     True\n",
            "1    False\n",
            "2    False\n",
            "Name: date, dtype: bool\n",
            "0    False\n",
            "1    False\n",
            "2    False\n",
            "Name: date, dtype: bool\n"
          ]
        }
      ]
    },
    {
      "cell_type": "markdown",
      "source": [
        "**String Manipulation:**\n",
        "79. df['column'].str.lower()\n",
        "80. df['column'].str.upper()\n",
        "81. df['column'].str.title()\n",
        "82. df['column'].str.capitalize()\n",
        "83. df['column'].str.strip()\n",
        "84. df['column'].str.split()\n",
        "85. df['column'].str.replace()\n",
        "86. df['column'].str.startswith()\n",
        "87. df['column'].str.endswith()\n",
        "88. df['column'].str.contains()\n",
        "89. df['column'].str.len()\n",
        "**Categorical Data:**\n",
        "90. df['column'].astype('category')\n",
        "\n",
        "91. df['column'].cat.codes\n",
        "92. df['column'].cat.categories\n",
        "93. df['column'].cat.add_categories()\n",
        "94. df['column'].cat.remove_categories()\n",
        "95. df['column'].cat.rename_categories()\n",
        "96. df['column'].cat.reorder_categories()\n",
        "97. df['column'].cat.as_ordered()\n",
        "98. df['column'].cat.asunordered()"
      ],
      "metadata": {
        "id": "ReC00YfKDC91"
      }
    },
    {
      "cell_type": "code",
      "source": [
        "import pandas as pd\n",
        "\n",
        "data = {'A': ['apple', 'banana', 'cherry']}\n",
        "df = pd.DataFrame(data)\n",
        "\n",
        "# String Manipulation\n",
        "# 1-11. Perform various string manipulations on a DataFrame column\n",
        "print(df['A'].str.lower())\n",
        "print(df['A'].str.upper())\n",
        "print(df['A'].str.title())\n",
        "print(df['A'].str.capitalize())\n",
        "print(df['A'].str.strip())\n",
        "print(df['A'].str.split())\n",
        "print(df['A'].str.replace('a', 'z'))\n",
        "print(df['A'].str.startswith('a'))\n",
        "print(df['A'].str.endswith('y'))\n",
        "print(df['A'].str.contains('a'))\n",
        "print(df['A'].str.len())\n",
        "\n",
        "# Categorical Data\n",
        "# Create a DataFrame with a categorical column\n",
        "cat_data = {'B': ['blue', 'green', 'red']}\n",
        "cat_df = pd.DataFrame(cat_data)\n",
        "\n",
        "# 12. Convert a column to the 'category' data type\n",
        "cat_df['B'] = cat_df['B'].astype('category')\n",
        "print(cat_df['B'])\n",
        "\n",
        "# 13-20. Perform various manipulations on a categorical column\n",
        "print(cat_df['B'].cat.codes)\n",
        "print(cat_df['B'].cat.categories)\n",
        "print(cat_df['B'].cat.add_categories(['yellow']))\n",
        "print(cat_df['B'].cat.remove_categories(['blue']))\n",
        "print(cat_df['B'].cat.rename_categories({'blue': 'azure'}))\n",
        "print(cat_df['B'].cat.reorder_categories(['green', 'blue', 'red'], ordered=True))\n",
        "print(cat_df['B'].cat.as_ordered())\n",
        "print(cat_df['B'].cat.as_unordered())\n"
      ],
      "metadata": {
        "id": "J_vxclGzDaHH"
      },
      "execution_count": null,
      "outputs": []
    },
    {
      "cell_type": "markdown",
      "source": [
        "**Problem: Analyze the sales data of a small retail store and find the total sales per product category for the year 2021.**"
      ],
      "metadata": {
        "id": "vW6rkvqlESmy"
      }
    },
    {
      "cell_type": "code",
      "source": [
        "import pandas as pd\n",
        "import numpy as np\n",
        "\n",
        "data = {\n",
        "    'Date': pd.date_range(start='2021-01-01', end='2021-12-31', freq='D'),\n",
        "    'Product_ID': np.random.randint(1, 101, 365),\n",
        "    'Product_Category': np.random.choice(['Electronics', 'Clothing', 'Kitchen', 'Toys'], 365),\n",
        "    'Sale_Price': np.random.uniform(10, 500, 365),\n",
        "}\n",
        "\n",
        "df = pd.DataFrame(data)\n"
      ],
      "metadata": {
        "id": "P42ozSGYEUq5"
      },
      "execution_count": null,
      "outputs": []
    },
    {
      "cell_type": "code",
      "source": [
        "# Start coding here....\n",
        "# Preprocessing\n",
        "# Convert 'Product_Category' to a categorical column\n",
        "df['Product_Category'] = df['Product_Category'].astype('category')\n",
        "\n",
        "# Set the 'Date' column as the index\n",
        "df.set_index('Date', inplace=True)\n",
        "\n",
        "# Calculate the total sales per product category for 2021\n",
        "total_sales_per_category = df.groupby('Product_Category').sum()['Sale_Price']\n",
        "\n",
        "print(total_sales_per_category)\n"
      ],
      "metadata": {
        "id": "EpHFAtizEXIB"
      },
      "execution_count": null,
      "outputs": []
    },
    {
      "cell_type": "markdown",
      "source": [],
      "metadata": {
        "id": "uvRRWRyIF1fM"
      }
    },
    {
      "cell_type": "markdown",
      "source": [
        "**Problem:** A small company wants to analyze their employees' information to find the average salary for each department and the percentage of employees who have been with the company for more than 5 years."
      ],
      "metadata": {
        "id": "K33GllM_F1me"
      }
    },
    {
      "cell_type": "code",
      "source": [
        "import pandas as pd\n",
        "\n",
        "data = {\n",
        "    'Employee_ID': [1001, 1002, 1003, 1004, 1005, 1006, 1007],\n",
        "    'Name': ['Alice', 'Bob', 'Charlie', 'David', 'Eve', 'Frank', 'Grace'],\n",
        "    'Department': ['HR', 'IT', 'IT', 'Sales', 'HR', 'Sales', 'IT'],\n",
        "    'Hire_Date': ['2010-02-14', '2015-06-22', '2012-03-18', '2018-10-01', '2016-11-15', '2014-08-27', '2019-05-12'],\n",
        "    'Salary': [50000, 60000, 55000, 62000, 52000, 58000, 64000],\n",
        "}\n",
        "\n",
        "df = pd.DataFrame(data)\n"
      ],
      "metadata": {
        "id": "Gn8CqRHhF31w"
      },
      "execution_count": null,
      "outputs": []
    },
    {
      "cell_type": "code",
      "source": [
        "# Start your code here...."
      ],
      "metadata": {
        "id": "JRQjfZEkF8-X"
      },
      "execution_count": null,
      "outputs": []
    },
    {
      "cell_type": "code",
      "source": [
        "# Convert 'Hire_Date' to a datetime column\n",
        "df['Hire_Date'] = pd.to_datetime(df['Hire_Date'])\n",
        "\n",
        "# Calculate the average salary for each department\n",
        "average_salary_per_department = df.groupby('Department')['Salary'].mean()\n",
        "\n",
        "# Calculate the percentage of employees who have been with the company for more than 5 years\n",
        "current_year = pd.to_datetime('2021-01-01')\n",
        "years_of_experience = (current_year - df['Hire_Date']).dt.days // 365\n",
        "percentage_over_5_years = (years_of_experience > 5).sum() / df.shape[0] * 100\n",
        "\n",
        "# Results\n",
        "print(\"Average salary per department:\")\n",
        "print(average_salary_per_department)\n",
        "print(\"\\nPercentage of employees with more than 5 years of experience: {:.2f}%\".format(percentage_over_5_years))\n"
      ],
      "metadata": {
        "id": "cueRA7jqF9DI"
      },
      "execution_count": null,
      "outputs": []
    },
    {
      "cell_type": "markdown",
      "source": [
        "**Problem:** A high school wants to analyze students' grades in three subjects (Math, Physics, and Chemistry) to find the average grade per subject and the number of students with an overall average grade above 85."
      ],
      "metadata": {
        "id": "yIexqIKUGROe"
      }
    },
    {
      "cell_type": "code",
      "source": [
        "import pandas as pd\n",
        "\n",
        "data = {\n",
        "    'Student_ID': range(1, 11),\n",
        "    'Name': ['Alice', 'Bob', 'Charlie', 'David', 'Eve', 'Frank', 'Grace', 'Heidi', 'Ivan', 'Jack'],\n",
        "    'Math': [95, 78, 84, 92, 88, 76, 90, 82, 89, 80],\n",
        "    'Physics': [90, 75, 83, 87, 91, 77, 89, 80, 92, 85],\n",
        "    'Chemistry': [88, 81, 79, 91, 92, 78, 85, 83, 87, 86],\n",
        "}\n",
        "\n",
        "df = pd.DataFrame(data)"
      ],
      "metadata": {
        "id": "trcDVWGWGSLP"
      },
      "execution_count": null,
      "outputs": []
    },
    {
      "cell_type": "code",
      "source": [
        "# Start code here......."
      ],
      "metadata": {
        "id": "HvBpDJe2GTT6"
      },
      "execution_count": null,
      "outputs": []
    },
    {
      "cell_type": "code",
      "source": [
        "# Calculate the average grade per subject\n",
        "average_grade_per_subject = df[['Math', 'Physics', 'Chemistry']].mean()\n",
        "\n",
        "# Calculate the overall average grade for each student\n",
        "df['Average_Grade'] = df[['Math', 'Physics', 'Chemistry']].mean(axis=1)\n",
        "\n",
        "# Count the number of students with an overall average grade above 85\n",
        "students_above_85 = (df['Average_Grade'] > 85).sum()\n",
        "\n",
        "# Results\n",
        "print(\"Average grade per subject:\")\n",
        "print(average_grade_per_subject)\n",
        "print(\"\\nNumber of students with an overall average grade above 85: {}\".format(students_above_85))\n"
      ],
      "metadata": {
        "id": "kj99iC0kGTWO"
      },
      "execution_count": null,
      "outputs": []
    }
  ]
}