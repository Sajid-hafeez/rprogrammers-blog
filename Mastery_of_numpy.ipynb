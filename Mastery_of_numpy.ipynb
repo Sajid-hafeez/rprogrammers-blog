{
  "nbformat": 4,
  "nbformat_minor": 0,
  "metadata": {
    "colab": {
      "provenance": []
    },
    "kernelspec": {
      "name": "python3",
      "display_name": "Python 3"
    },
    "language_info": {
      "name": "python"
    }
  },
  "cells": [
    {
      "cell_type": "code",
      "source": [
        "import numpy as np"
      ],
      "metadata": {
        "id": "W4C-GlePF3Fy"
      },
      "execution_count": null,
      "outputs": []
    },
    {
      "cell_type": "markdown",
      "source": [
        "# Array creation functions\n",
        "\n",
        "\n",
        "We are going to discuss the follwoing question.\n",
        "1. array()\n",
        "2. asarray()\n",
        "3. arange()\n",
        "4. ones()\n",
        "5. zeros()\n",
        "6. empty()\n",
        "7. eye()\n",
        "8. full()"
      ],
      "metadata": {
        "id": "eZ7tJhMMIZM6"
      }
    },
    {
      "cell_type": "markdown",
      "source": [
        "## array()\n",
        "array() help us to create the numpy array in python. We can create array from list, tuple, list of lists, tuple of tuples."
      ],
      "metadata": {
        "id": "j7gTf4q2JYtz"
      }
    },
    {
      "cell_type": "code",
      "source": [
        "arr = np.array([1, 2, 3, 4, 5])\n",
        "print(arr)\n",
        "\n",
        "# create an array from a tuple\n",
        "arr = np.array((6, 7, 8, 9, 10))\n",
        "print(arr)\n",
        "\n",
        "# create an array from a list of lists\n",
        "arr = np.array([[1, 2, 3], [4, 5, 6]])\n",
        "print(arr)\n",
        "\n",
        "# create an array from a tuple of tuples\n",
        "arr = np.array(((1, 2, 3), (4, 5, 6)))\n",
        "print(arr)"
      ],
      "metadata": {
        "colab": {
          "base_uri": "https://localhost:8080/"
        },
        "id": "Mz-l8Be4JMnR",
        "outputId": "05c0f76f-24dc-4c9f-9378-96c2b7106533"
      },
      "execution_count": null,
      "outputs": [
        {
          "output_type": "stream",
          "name": "stdout",
          "text": [
            "[1 2 3 4 5]\n",
            "[ 6  7  8  9 10]\n",
            "[[1 2 3]\n",
            " [4 5 6]]\n",
            "[[1 2 3]\n",
            " [4 5 6]]\n"
          ]
        }
      ]
    },
    {
      "cell_type": "markdown",
      "source": [
        "## asarray()\n",
        "as array help us to convert the any other data type into array."
      ],
      "metadata": {
        "id": "Yeqg5NjaJM_D"
      }
    },
    {
      "cell_type": "code",
      "source": [
        "# array()\n",
        "# create a list\n",
        "list = [1, 2, 3, 4, 5]\n",
        "\n",
        "# convert the list to an array\n",
        "arr = np.asarray(list)\n",
        "arr"
      ],
      "metadata": {
        "colab": {
          "base_uri": "https://localhost:8080/"
        },
        "id": "bMp8ixmCJJSW",
        "outputId": "f0dcf59f-89dc-4185-9853-94d509309371"
      },
      "execution_count": null,
      "outputs": [
        {
          "output_type": "execute_result",
          "data": {
            "text/plain": [
              "array([1, 2, 3, 4, 5])"
            ]
          },
          "metadata": {},
          "execution_count": 10
        }
      ]
    },
    {
      "cell_type": "markdown",
      "source": [
        "## arange()\n",
        "The arange() function creates a Numpy array with a range of values specified by the start, stop, and step parameters. The start and stop values are inclusive and exclusive, respectively, and the step parameter determines the interval between the values in the array."
      ],
      "metadata": {
        "id": "51BkpFNxKLOM"
      }
    },
    {
      "cell_type": "code",
      "execution_count": null,
      "metadata": {
        "colab": {
          "base_uri": "https://localhost:8080/"
        },
        "id": "zkV-AmlwDGA3",
        "outputId": "2b6f8d9f-40fe-4cd9-9167-5abadef33854"
      },
      "outputs": [
        {
          "output_type": "stream",
          "name": "stdout",
          "text": [
            "[0 1 2 3 4 5 6 7 8 9]\n"
          ]
        }
      ],
      "source": [
        "# create an array with values from 0 to 9, inclusive\n",
        "arr = np.arange(10)\n",
        "print(arr)"
      ]
    },
    {
      "cell_type": "code",
      "source": [
        "# create an array with values from 0 to 9, exclusive\n",
        "arr = np.arange(10, 20)\n",
        "print(arr)"
      ],
      "metadata": {
        "colab": {
          "base_uri": "https://localhost:8080/"
        },
        "id": "2va6V6gMMIM4",
        "outputId": "568e2330-583f-4f23-aec1-ba00c2e35576"
      },
      "execution_count": null,
      "outputs": [
        {
          "output_type": "stream",
          "name": "stdout",
          "text": [
            "[10 11 12 13 14 15 16 17 18 19]\n"
          ]
        }
      ]
    },
    {
      "cell_type": "code",
      "source": [
        "# create an array with values from 0 to 9, with a step size of 2\n",
        "arr = np.arange(0, 10, 2)\n",
        "print(arr)\n"
      ],
      "metadata": {
        "colab": {
          "base_uri": "https://localhost:8080/"
        },
        "id": "UT9wrkMTGCll",
        "outputId": "646ffd24-ca35-400c-e8a2-474da2362498"
      },
      "execution_count": null,
      "outputs": [
        {
          "output_type": "stream",
          "name": "stdout",
          "text": [
            "[0 2 4 6 8]\n"
          ]
        }
      ]
    },
    {
      "cell_type": "code",
      "source": [
        "# create an array with values from 9 to 0, with a step size of -1\n",
        "arr = np.arange(9, -1, -1)\n",
        "print(arr)\n"
      ],
      "metadata": {
        "colab": {
          "base_uri": "https://localhost:8080/"
        },
        "id": "6tPYTpfjMLqO",
        "outputId": "2ec0d3d1-d489-4880-c8d8-0c453254992f"
      },
      "execution_count": null,
      "outputs": [
        {
          "output_type": "stream",
          "name": "stdout",
          "text": [
            "[9 8 7 6 5 4 3 2 1 0]\n"
          ]
        }
      ]
    },
    {
      "cell_type": "code",
      "source": [
        "# create an array with values from 0 to 1, with a step size of 0.1\n",
        "arr = np.arange(0, 1, 0.1)\n",
        "print(arr)"
      ],
      "metadata": {
        "colab": {
          "base_uri": "https://localhost:8080/"
        },
        "id": "PweDVnKjMNpV",
        "outputId": "41556eb5-9027-4a8c-a075-d0733ba05ece"
      },
      "execution_count": null,
      "outputs": [
        {
          "output_type": "stream",
          "name": "stdout",
          "text": [
            "[0.  0.1 0.2 0.3 0.4 0.5 0.6 0.7 0.8 0.9]\n"
          ]
        }
      ]
    },
    {
      "cell_type": "markdown",
      "source": [
        "## ones() & zeros() & empty()\n",
        "he ones() function creates a Numpy array with a specified shape and data type, filled with ones. In the same manner, zeros() fill the values with zeros. Empty() create the specified shape only without filling the numbers. Here is the example of both."
      ],
      "metadata": {
        "id": "XGO-NxLJMXy6"
      }
    },
    {
      "cell_type": "code",
      "source": [
        "# create a 1-dimensional array with 5 ones\n",
        "arr = np.ones(5)\n",
        "print(arr)\n",
        "\n",
        "# create a 1-dimensional array with 5 zeros\n",
        "arr = np.zeros(5)\n",
        "print(arr)\n",
        "\n",
        "# create a 1-dimensional array with 5 empty\n",
        "arr = np.empty(5)\n",
        "print(arr)\n",
        "\n",
        "\n",
        "# create a 2-dimensional array with 3 rows and 4 columns of ones\n",
        "arr = np.ones((3, 4))\n",
        "print(arr)\n",
        "\n",
        "# create a 2-dimensional array with 3 rows and 4 columns of zeros\n",
        "arr = np.zeros((3, 4))\n",
        "print(arr)"
      ],
      "metadata": {
        "colab": {
          "base_uri": "https://localhost:8080/"
        },
        "id": "7y6jzsaMMsOV",
        "outputId": "e36e407f-5f5a-43f0-b714-d847d3f406b3"
      },
      "execution_count": null,
      "outputs": [
        {
          "output_type": "stream",
          "name": "stdout",
          "text": [
            "[1. 1. 1. 1. 1.]\n",
            "[0. 0. 0. 0. 0.]\n",
            "[0. 0. 0. 0. 0.]\n",
            "[[1. 1. 1. 1.]\n",
            " [1. 1. 1. 1.]\n",
            " [1. 1. 1. 1.]]\n",
            "[[0. 0. 0. 0.]\n",
            " [0. 0. 0. 0.]\n",
            " [0. 0. 0. 0.]]\n"
          ]
        }
      ]
    },
    {
      "cell_type": "markdown",
      "source": [
        "In empty(), The elements of the array will contain whatever values were in the memory before the array was created.\n",
        "\n",
        "This function is often used to create an array with a certain shape and data type, to be later populated with more meaningful data. It is generally faster than creating an array with the ones() or zeros() function, as it does not need to initialize the elements to a specific value. However, the elements of the array may contain garbage values, so it is important to be aware of this"
      ],
      "metadata": {
        "id": "v7CShHB2MX-V"
      }
    },
    {
      "cell_type": "markdown",
      "source": [
        "# eye()\n",
        "eye() function help us to create the identity matrix in python. You can also specify the location of diagonal as well."
      ],
      "metadata": {
        "id": "s7UEPl8bOApQ"
      }
    },
    {
      "cell_type": "code",
      "source": [
        "# create a 4x4 identity matrix\n",
        "arr = np.eye(4)\n",
        "print(arr)\n",
        "\n",
        "# create a 5x5 identity matrix with a non-zero diagonal\n",
        "arr = np.eye(5, k=-3)\n",
        "print(arr)"
      ],
      "metadata": {
        "colab": {
          "base_uri": "https://localhost:8080/"
        },
        "id": "8pmiQd4ONoLx",
        "outputId": "7060055f-2787-4c4d-8355-83cdeafb4072"
      },
      "execution_count": null,
      "outputs": [
        {
          "output_type": "stream",
          "name": "stdout",
          "text": [
            "[[1. 0. 0. 0.]\n",
            " [0. 1. 0. 0.]\n",
            " [0. 0. 1. 0.]\n",
            " [0. 0. 0. 1.]]\n",
            "[[0. 0. 0. 0. 0.]\n",
            " [0. 0. 0. 0. 0.]\n",
            " [0. 0. 0. 0. 0.]\n",
            " [1. 0. 0. 0. 0.]\n",
            " [0. 1. 0. 0. 0.]]\n"
          ]
        }
      ]
    },
    {
      "cell_type": "code",
      "source": [
        "# create a 2x3 identity matrix with a non-zero diagonal\n",
        "arr = np.eye(2, 3, k=1)\n",
        "print(arr)"
      ],
      "metadata": {
        "colab": {
          "base_uri": "https://localhost:8080/"
        },
        "id": "nhKaXkmAOeXy",
        "outputId": "170b4a18-bd6b-4947-c130-f917fd38d81d"
      },
      "execution_count": null,
      "outputs": [
        {
          "output_type": "stream",
          "name": "stdout",
          "text": [
            "[[0. 1. 0.]\n",
            " [0. 0. 1.]]\n"
          ]
        }
      ]
    },
    {
      "cell_type": "markdown",
      "source": [
        "## full()\n",
        "The full() function creates a Numpy array with a specified shape and data type, filled with a single value. Shape can be of anytype."
      ],
      "metadata": {
        "id": "V8cFEixNj0fg"
      }
    },
    {
      "cell_type": "code",
      "source": [
        "# create a 1-dimensional array with 5 elements\n",
        "arr = np.full(3, 5)\n",
        "print(arr)\n",
        "\n",
        "# create a 2-dimensional array with 3 rows and 6 columns\n",
        "arr = np.full((3, 6), 2)\n",
        "print(arr)\n"
      ],
      "metadata": {
        "colab": {
          "base_uri": "https://localhost:8080/"
        },
        "id": "4_aJflW8ljFG",
        "outputId": "598f5ef5-4ab0-489f-f195-abd8622b8090"
      },
      "execution_count": null,
      "outputs": [
        {
          "output_type": "stream",
          "name": "stdout",
          "text": [
            "[5 5 5]\n",
            "[[2 2 2 2 2 2]\n",
            " [2 2 2 2 2 2]\n",
            " [2 2 2 2 2 2]]\n"
          ]
        }
      ]
    },
    {
      "cell_type": "code",
      "source": [
        "arr = np.full(3, 5, dtype=np.float64)\n",
        "print(arr)"
      ],
      "metadata": {
        "colab": {
          "base_uri": "https://localhost:8080/"
        },
        "id": "AP0nb83Vlty5",
        "outputId": "d529b50c-4800-4961-9d4f-0b9b04a77f0b"
      },
      "execution_count": null,
      "outputs": [
        {
          "output_type": "stream",
          "name": "stdout",
          "text": [
            "[5. 5. 5.]\n"
          ]
        }
      ]
    },
    {
      "cell_type": "markdown",
      "source": [
        "# Array Manipulation\n",
        "\n",
        "\n",
        "\n",
        "1. np.reshape: reshapes an array into a specified shape\n",
        "2. np.ndarray.flatten: flattens an array into a single dimension\n",
        "3. np.transpose: transposes an array by swapping its axes\n",
        "4. np.concatenate: concatenates two or more arrays along a specified axis\n",
        "5. np.split: splits an array into multiple subarrays along a specified axis\n",
        "6. np.vsplit: splits an array vertically (row-wise)\n",
        "7. np.hsplit: splits an array horizontally (column-wise)\n",
        "8. np.stack: stacks arrays along a new axis\n",
        "9. np.vstack: stacks arrays vertically (row-wise)\n",
        "10. np.hstack: stacks arrays horizontally (column-wise)\n",
        "11. np.column_stack: stacks 1D arrays as columns in a 2D array\n",
        "12. np.dstack: stacks arrays along a new third axis (depth)"
      ],
      "metadata": {
        "id": "MS2rU9ULl4PP"
      }
    },
    {
      "cell_type": "code",
      "source": [
        "# create a 1-dimensional array\n",
        "arr = np.array([0, 1, 2, 3, 4, 5, 6, 7, 8, 9])\n",
        "print(arr)\n",
        "\n",
        "# reshape the array into a 2-dimensional array with 5 rows and 2 columns\n",
        "arr2 = np.reshape(arr, (5, 2))\n",
        "print(arr2)"
      ],
      "metadata": {
        "id": "FByq1qkjmV_C",
        "colab": {
          "base_uri": "https://localhost:8080/"
        },
        "outputId": "c0d2be05-2fa8-42a1-c9dd-a861dd169fc1"
      },
      "execution_count": null,
      "outputs": [
        {
          "output_type": "stream",
          "name": "stdout",
          "text": [
            "[0 1 2 3 4 5 6 7 8 9]\n",
            "[[0 1]\n",
            " [2 3]\n",
            " [4 5]\n",
            " [6 7]\n",
            " [8 9]]\n"
          ]
        }
      ]
    },
    {
      "cell_type": "code",
      "source": [
        "# flatten the array into a 1-dimensional array\n",
        "arr3 = np.ndarray.flatten(arr2)\n",
        "print(arr3)\n",
        "arr5 = np.ndarray.flatten(arr2, order='F')\n",
        "arr5"
      ],
      "metadata": {
        "colab": {
          "base_uri": "https://localhost:8080/"
        },
        "id": "NHKBtf7-bUYB",
        "outputId": "df996623-cf02-4234-963e-d1b5abbd1c98"
      },
      "execution_count": null,
      "outputs": [
        {
          "output_type": "stream",
          "name": "stdout",
          "text": [
            "[0 1 2 3 4 5 6 7 8 9]\n"
          ]
        },
        {
          "output_type": "execute_result",
          "data": {
            "text/plain": [
              "array([0, 2, 4, 6, 8, 1, 3, 5, 7, 9])"
            ]
          },
          "metadata": {},
          "execution_count": 14
        }
      ]
    },
    {
      "cell_type": "code",
      "source": [
        "# transpose the array\n",
        "arr4 = np.transpose(arr2)\n",
        "print(arr4)"
      ],
      "metadata": {
        "colab": {
          "base_uri": "https://localhost:8080/"
        },
        "id": "-Ua73SKRbXWd",
        "outputId": "380e1306-783f-4716-c12d-4538006b90c1"
      },
      "execution_count": null,
      "outputs": [
        {
          "output_type": "stream",
          "name": "stdout",
          "text": [
            "[[0 2 4 6 8]\n",
            " [1 3 5 7 9]]\n"
          ]
        }
      ]
    },
    {
      "cell_type": "code",
      "source": [
        "# create a second array to concatenate with the first\n",
        "arr5 = np.array([10, 11, 12, 13, 14, 15])\n",
        "\n",
        "# concatenate the two arrays along the first axis\n",
        "arr6 = np.concatenate((arr, arr5), axis=0)\n",
        "print(arr6)\n"
      ],
      "metadata": {
        "colab": {
          "base_uri": "https://localhost:8080/"
        },
        "id": "oyJQjjUObb_z",
        "outputId": "16ccdc81-a5b9-4fd7-e3b1-8f8dec3dc0f5"
      },
      "execution_count": null,
      "outputs": [
        {
          "output_type": "stream",
          "name": "stdout",
          "text": [
            "[ 0  1  2  3  4  5  6  7  8  9 10 11 12 13 14 15]\n"
          ]
        }
      ]
    },
    {
      "cell_type": "code",
      "source": [
        "# split the concatenated array into three equal-sized subarrays\n",
        "arr7 = np.split(arr6, 2)\n",
        "print(arr7)\n"
      ],
      "metadata": {
        "colab": {
          "base_uri": "https://localhost:8080/"
        },
        "id": "caJFcoa1bgFY",
        "outputId": "1da0fca5-d4a2-432d-d2f0-d916ca8eab21"
      },
      "execution_count": null,
      "outputs": [
        {
          "output_type": "stream",
          "name": "stdout",
          "text": [
            "[array([0, 1, 2, 3, 4, 5, 6, 7]), array([ 8,  9, 10, 11, 12, 13, 14, 15])]\n"
          ]
        }
      ]
    },
    {
      "cell_type": "code",
      "source": [
        "# create a 2-dimensional array with 4 rows and 4 columns\n",
        "arr = np.array([[0, 1, 2, 3], [4, 5, 6, 7], [8, 9, 10, 11], [12, 13, 14, 15]])\n",
        "print(arr)\n",
        "\n",
        "# split the array vertically into two arrays\n",
        "arr2, arr3 = np.vsplit(arr, 2)\n",
        "print(arr2)\n",
        "print(arr3)\n",
        "\n",
        "# split the array horizentally into two arrays\n",
        "arr4, arr5 = np.hsplit(arr, 2)\n",
        "print(arr4)\n",
        "print(arr5)\n"
      ],
      "metadata": {
        "colab": {
          "base_uri": "https://localhost:8080/"
        },
        "id": "1MRkVt1RgMLe",
        "outputId": "5d1f2105-8985-4729-d2e1-8a66a19f73ee"
      },
      "execution_count": null,
      "outputs": [
        {
          "output_type": "stream",
          "name": "stdout",
          "text": [
            "[[ 0  1  2  3]\n",
            " [ 4  5  6  7]\n",
            " [ 8  9 10 11]\n",
            " [12 13 14 15]]\n",
            "[[0 1 2 3]\n",
            " [4 5 6 7]]\n",
            "[[ 8  9 10 11]\n",
            " [12 13 14 15]]\n",
            "[[ 0  1]\n",
            " [ 4  5]\n",
            " [ 8  9]\n",
            " [12 13]]\n",
            "[[ 2  3]\n",
            " [ 6  7]\n",
            " [10 11]\n",
            " [14 15]]\n"
          ]
        }
      ]
    },
    {
      "cell_type": "code",
      "source": [
        "# stack the two arrays vertically\n",
        "arr10 = np.vstack((arr2, arr3))\n",
        "print(arr10)\n"
      ],
      "metadata": {
        "colab": {
          "base_uri": "https://localhost:8080/"
        },
        "id": "9YtTPbsSbpjz",
        "outputId": "71bfa11c-93ab-4c99-80c5-6290b6b60972"
      },
      "execution_count": null,
      "outputs": [
        {
          "output_type": "stream",
          "name": "stdout",
          "text": [
            "[[ 0  1  2  3]\n",
            " [ 4  5  6  7]\n",
            " [ 8  9 10 11]\n",
            " [12 13 14 15]]\n"
          ]
        }
      ]
    },
    {
      "cell_type": "code",
      "source": [
        "# stack the two arrays horizontally\n",
        "arr11 = np.hstack((arr4, arr5))\n",
        "print(arr11)"
      ],
      "metadata": {
        "colab": {
          "base_uri": "https://localhost:8080/"
        },
        "id": "9CXfquthbsmr",
        "outputId": "48a8f53b-bc0c-4703-c80a-d76411decf94"
      },
      "execution_count": null,
      "outputs": [
        {
          "output_type": "stream",
          "name": "stdout",
          "text": [
            "[[ 0  1  2  3]\n",
            " [ 4  5  6  7]\n",
            " [ 8  9 10 11]\n",
            " [12 13 14 15]]\n"
          ]
        }
      ]
    },
    {
      "cell_type": "code",
      "source": [
        "# stack the two arrays along the second axis\n",
        "arr12 = np.column_stack((arr, arr5))\n",
        "print(arr12)"
      ],
      "metadata": {
        "colab": {
          "base_uri": "https://localhost:8080/"
        },
        "id": "BoJv0R-ab3Dp",
        "outputId": "3b6e06e6-5cb6-425b-e5c9-ce85958a927d"
      },
      "execution_count": null,
      "outputs": [
        {
          "output_type": "stream",
          "name": "stdout",
          "text": [
            "[[ 0  1  2  3  2  3]\n",
            " [ 4  5  6  7  6  7]\n",
            " [ 8  9 10 11 10 11]\n",
            " [12 13 14 15 14 15]]\n"
          ]
        }
      ]
    },
    {
      "cell_type": "markdown",
      "source": [
        "## Mathematics and statistical Functions\n",
        "### MAthematics\n",
        "1. np.abs: calculates the absolute value of an array\n",
        "2. np.add: adds two arrays element-wise\n",
        "3. np.subtract: subtracts one array from another element-wise\n",
        "4. np.multiply: multiplies two arrays element-wise\n",
        "5. np.divide: divides one array by another element-wise\n",
        "6. np.exp: calculates the exponent of an array\n",
        "7. np.log: calculates the natural logarithm of an array\n",
        "8. np.sqrt: calculates the square root of an array\n",
        "9. np.power: raises an array to a specified power\n",
        "10. np.maximum: calculates the element-wise maximum of two arrays\n",
        "11. np.minimum: calculates the element-wise minimum of two arrays\n",
        "12. np.mod: calculates the element-wise remainder of two arrays\n",
        "13. np.around: rounds the elements of an array to the nearest integer\n",
        "14. np.floor: rounds the elements of an array down to the nearest integer\n",
        "15. np.ceil: rounds the elements of an array up to the nearest integer"
      ],
      "metadata": {
        "id": "uwasCq1YStMp"
      }
    },
    {
      "cell_type": "code",
      "source": [
        "data = np.array([[-1.2, 2.4, 3.6], [4.1, 5.7, 6.2]])\n",
        "\n",
        "# absolute value\n",
        "abs_data = np.abs(data)\n",
        "print(\"Absolute value:\\n\", abs_data)\n",
        "\n",
        "# element-wise addition\n",
        "add_data = np.add(data, 2)\n",
        "print(\"\\nAddition:\\n\", add_data)\n",
        "\n",
        "# element-wise subtraction\n",
        "sub_data = np.subtract(data, 2)\n",
        "print(\"\\nSubtraction:\\n\", sub_data)\n",
        "\n",
        "# element-wise multiplication\n",
        "mul_data = np.multiply(data, 2)\n",
        "print(\"\\nMultiplication:\\n\", mul_data)\n",
        "\n",
        "# element-wise division\n",
        "div_data = np.divide(data, 2)\n",
        "print(\"\\nDivision:\\n\", div_data)\n",
        "\n",
        "# exponentiation\n",
        "exp_data = np.exp(data)\n",
        "print(\"\\nExponentiation:\\n\", exp_data)\n",
        "\n",
        "# natural logarithm\n",
        "log_data = np.log(data)\n",
        "print(\"\\nNatural logarithm:\\n\", log_data)\n",
        "\n",
        "# square root\n",
        "sqrt_data = np.sqrt(data)\n",
        "print(\"\\nSquare root:\\n\", sqrt_data)\n",
        "\n",
        "# power\n",
        "pow_data = np.power(data, 2)\n",
        "print(\"\\nPower:\\n\", pow_data)\n",
        "\n",
        "# element-wise maximum\n",
        "max_data = np.maximum(data, 2)\n",
        "print(\"\\nElement-wise maximum:\\n\", max_data)\n",
        "\n",
        "# element-wise minimum\n",
        "min_data = np.minimum(data, 2)\n",
        "print(\"\\nElement-wise minimum:\\n\", min_data)\n",
        "\n",
        "# element-wise remainder\n",
        "mod_data = np.mod(data, 2)\n",
        "print(\"\\nElement-wise remainder:\\n\", mod_data)\n",
        "\n",
        "# rounding\n",
        "round_data = np.around(data)\n",
        "print(\"\\nRounding:\\n\", round_data)\n",
        "floor_data = np.floor(data)\n",
        "print(\"\\nFloor:\\n\", floor_data)\n",
        "ceil_data = np.ceil(data)\n",
        "print(\"\\nCeiling:\\n\", ceil_data)"
      ],
      "metadata": {
        "colab": {
          "base_uri": "https://localhost:8080/"
        },
        "id": "nmfWSytSYZJu",
        "outputId": "bd842312-41ab-431c-c872-f8e2c56244b7"
      },
      "execution_count": null,
      "outputs": [
        {
          "output_type": "stream",
          "name": "stdout",
          "text": [
            "Absolute value:\n",
            " [[1.2 2.4 3.6]\n",
            " [4.1 5.7 6.2]]\n",
            "\n",
            "Addition:\n",
            " [[0.8 4.4 5.6]\n",
            " [6.1 7.7 8.2]]\n",
            "\n",
            "Subtraction:\n",
            " [[-3.2  0.4  1.6]\n",
            " [ 2.1  3.7  4.2]]\n",
            "\n",
            "Multiplication:\n",
            " [[-2.4  4.8  7.2]\n",
            " [ 8.2 11.4 12.4]]\n",
            "\n",
            "Division:\n",
            " [[-0.6   1.2   1.8 ]\n",
            " [ 2.05  2.85  3.1 ]]\n",
            "\n",
            "Exponentiation:\n",
            " [[3.01194212e-01 1.10231764e+01 3.65982344e+01]\n",
            " [6.03402876e+01 2.98867401e+02 4.92749041e+02]]\n",
            "\n",
            "Natural logarithm:\n",
            " [[       nan 0.87546874 1.28093385]\n",
            " [1.41098697 1.74046617 1.82454929]]\n",
            "\n",
            "Square root:\n",
            " [[       nan 1.54919334 1.8973666 ]\n",
            " [2.02484567 2.38746728 2.48997992]]\n",
            "\n",
            "Power:\n",
            " [[ 1.44  5.76 12.96]\n",
            " [16.81 32.49 38.44]]\n",
            "\n",
            "Element-wise maximum:\n",
            " [[2.  2.4 3.6]\n",
            " [4.1 5.7 6.2]]\n",
            "\n",
            "Element-wise minimum:\n",
            " [[-1.2  2.   2. ]\n",
            " [ 2.   2.   2. ]]\n",
            "\n",
            "Element-wise remainder:\n",
            " [[0.8 0.4 1.6]\n",
            " [0.1 1.7 0.2]]\n",
            "\n",
            "Rounding:\n",
            " [[-1.  2.  4.]\n",
            " [ 4.  6.  6.]]\n",
            "\n",
            "Floor:\n",
            " [[-2.  2.  3.]\n",
            " [ 4.  5.  6.]]\n",
            "\n",
            "Ceiling:\n",
            " [[-1.  3.  4.]\n",
            " [ 5.  6.  7.]]\n"
          ]
        },
        {
          "output_type": "stream",
          "name": "stderr",
          "text": [
            "<ipython-input-3-c501eb71cf7f>:28: RuntimeWarning: invalid value encountered in log\n",
            "  log_data = np.log(data)\n",
            "<ipython-input-3-c501eb71cf7f>:32: RuntimeWarning: invalid value encountered in sqrt\n",
            "  sqrt_data = np.sqrt(data)\n"
          ]
        }
      ]
    },
    {
      "cell_type": "code",
      "source": [],
      "metadata": {
        "id": "1d3HFUgiZFrn"
      },
      "execution_count": null,
      "outputs": []
    }
  ]
}